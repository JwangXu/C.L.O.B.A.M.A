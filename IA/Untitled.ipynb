{
 "cells": [
  {
   "cell_type": "code",
   "execution_count": 26,
   "metadata": {},
   "outputs": [
    {
     "name": "stdout",
     "output_type": "stream",
     "text": [
      "Wars Features:\n",
      "['country', 'year', 'allies', 'borderCountries', 'inversion', 'gdp', 'war'] \n",
      "\n",
      "Columns in Wars =  7\n",
      "Unique elems in column Country for wars =  {'CMR', 'TUV', 'IDN', 'PAK', 'KGZ', 'HAN', 'BIH', 'MCO', 'AGO', 'RUS', 'ZWE', 'SYC', 'LBR', 'KNA', 'TKM', 'CIV', 'VNM', 'OMN', 'MAR', 'SLB', 'MLI', 'GMB', 'JPN', 'BGR', 'SUN', 'PSE', 'ALB', 'CHN', 'GRC', 'TGO', 'ARM', 'PER', 'CUB', 'GAB', 'OWID_AUH', 'TJK', 'MLT', 'HUN', 'BDI', 'AZE', 'LTU', 'TCD', 'SYR', 'MEX', 'GHA', 'COD', 'SVK', 'HTI', 'EGY', 'NIC', 'COG', 'YPR', 'TTO', 'USA', 'ROU', 'ISR', 'MWI', 'BAV', 'YEM', 'KAZ', 'SMR', 'LAO', 'LCA', 'CSK', 'MDV', 'KHM', 'LVA', 'POL', 'HSG', 'IND', 'BEL', 'BRN', 'HSE', 'MRT', 'MNG', 'CHL', 'URY', 'AUT', 'MKD', 'GTM', 'DZA', 'NZL', 'GBR', 'OWID_GFR', 'YUG', 'UKR', 'DNK', 'TON', 'BAD', 'DEU', 'SSD', 'PMA', 'CPV', 'PLW', 'GRD', 'MNE', 'LIE', 'IRL', 'UZB', 'GIB', 'MYS', 'AUH', 'VUT', 'YAR', 'TWN', 'ISL', 'BLR', 'CZE', 'CUW', 'MUS', 'HKG', 'SAU', 'MMR', 'WSM', 'BLZ', 'FJI', 'IRQ', 'NER', 'VEN', 'AND', 'TZA', 'ATG', 'STP', 'ERI', 'SWZ', 'CYP', 'MHL', 'ESP', 'GNQ', 'DMA', 'LBY', 'ZAF', 'BRB', 'PAN', 'UGA', 'SLV', 'PHL', 'QAT', 'ETH', 'TUN', 'CHE', 'JAM', 'TLS', 'GIN', 'SWE', 'KOR', 'OWID_CZS', 'ZMB', 'NDL', 'FIN', 'LBN', 'TUS', 'FRA', 'SOM', 'PRI', 'BEN', 'CRI', 'RWA', 'PRT', 'MDA', 'KWT', 'SVN', 'LUX', 'CZK', 'NAM', 'GFR', 'DOM', 'OWID_KOS', 'GDR', 'NLD', 'CAN', 'PNG', 'THA', 'ARE', 'KRO', 'KEN', 'BFA', 'COL', 'BGD', 'ARG', 'EST', 'MOD', 'SAX', 'HND', 'SGP', 'BTN', 'SUR', 'SDN', 'AFG', 'LKA', 'NOR', 'MEC', 'ECU', 'NGA', 'BHS', 'SIC', 'SLE', 'DJI', 'AUS', 'NPL', 'BRA', 'IRN', 'PRK', 'ITA', 'CAF', 'BWA', 'JOR', 'GEO', 'COM', 'PRY', 'GUY', 'BHR', 'KIR', 'BOL', 'HRV', 'OWID_WRL', 'WRT', 'GNB', 'SRB', 'MOZ', 'SEN', 'LSO', 'VCT', 'TUR', 'MDG'}\n"
     ]
    }
   ],
   "source": [
    "\n",
    "##########################################\n",
    "# ALGORITHM  FOR CLOUD AND BIG DATA      #\n",
    "# Authors: Carlos Bilbao, Álvaro Ortiz   #\n",
    "##########################################\n",
    "\n",
    "import pandas as pd\n",
    "import numpy\n",
    "import sklearn.metrics\n",
    "#import significance\n",
    "from sklearn import preprocessing\n",
    "from sklearn.model_selection import train_test_split\n",
    "from sklearn.model_selection import learning_curve\n",
    "from sklearn.metrics import classification_report\n",
    "#from sklearn.linear_model import SGDClassifier\n",
    "from sklearn.svm import LinearSVC\n",
    "\n",
    "############################\n",
    "# 1 PREPARATION\t\t       #\n",
    "############################\n",
    "\n",
    "ddbb_wars = pd.read_csv(\"result.csv\", na_values='')\n",
    "#print(ddbb_wars)\n",
    "\n",
    "# Feature names\n",
    "headers_wars = list(ddbb_wars)\n",
    "\n",
    "############################\n",
    "# 2 DATA EXPLORATION       #\n",
    "############################\n",
    "\n",
    "# Column names\n",
    "print(\"Wars Features:\")\n",
    "print(headers_wars,'\\n')\n",
    "print(\"Columns in Wars = \", len(headers_wars))\n",
    "\n",
    "# Unique elements of column Country\n",
    "countries = set(ddbb_wars[\"country\"])\n",
    "print(\"Unique elems in column Country for wars = \", countries)\n",
    "\n",
    "############################\n",
    "# 3 PREPROCESSING          #\n",
    "############################\n",
    "\n",
    "# Feature matrix\n",
    "x = []\n",
    "\n",
    "# Label Array\n",
    "y = []\n",
    "\n",
    "le = preprocessing.LabelEncoder()\n",
    "le = le.fit(ddbb_wars['country'].unique())\n",
    "\n",
    "# We prepare the matrix with the data\n",
    "for index, row in ddbb_wars.iterrows():\n",
    "\n",
    "\tvector = [le.transform([row['country']])[0],\n",
    "\t\t\t  #row['year'],\n",
    "\t\t\t  #le2.transform(row['allies'])[0],\n",
    "\t\t\t  #row['borderCountries'], # MISMO PROBLEMA QUE ALLIES\n",
    "\t\t\t  row['inversion'],\n",
    "\t\t\t  row['gdp']]\n",
    "\tx.append(vector)\n",
    "\ty.append(row['war'])\n",
    "\n",
    "x = numpy.asarray(x)\n"
   ]
  },
  {
   "cell_type": "code",
   "execution_count": 31,
   "metadata": {},
   "outputs": [
    {
     "name": "stdout",
     "output_type": "stream",
     "text": [
      "[1 1 0 ... 1 1 0]\n",
      "\n",
      "SVC REPORT:\n",
      "              precision    recall  f1-score   support\n",
      "\n",
      "           0       0.94      1.00      0.97      2184\n",
      "           1       1.00      0.94      0.97      2465\n",
      "\n",
      "    accuracy                           0.97      4649\n",
      "   macro avg       0.97      0.97      0.97      4649\n",
      "weighted avg       0.97      0.97      0.97      4649\n",
      "\n"
     ]
    },
    {
     "name": "stderr",
     "output_type": "stream",
     "text": [
      "E:\\Anaconda\\lib\\site-packages\\sklearn\\svm\\base.py:929: ConvergenceWarning: Liblinear failed to converge, increase the number of iterations.\n",
      "  \"the number of iterations.\", ConvergenceWarning)\n"
     ]
    }
   ],
   "source": [
    "\n",
    "############################\n",
    "# 4 CLASSIFICATION         #\n",
    "############################\n",
    "\n",
    "x_train, x_test, y_train, y_test = train_test_split(x, y, test_size = 0.2, random_state = 1)\n",
    "\n",
    "# (1) Create the model\n",
    "# Possible future work -> Find optimal parameters for here \n",
    "#SGDclf = SGDClassifier()\n",
    "SVCclf = LinearSVC(max_iter=10000)\n",
    "\n",
    "# (2) Fit the model\n",
    "SVCclf.fit(x_train, y_train)\n",
    "\n",
    "# (3) Predict\n",
    "y_pred = SVCclf.predict(x_test)\n",
    "print(y_pred)\n",
    "\n",
    "\n",
    "\n",
    "\n",
    "\n",
    "\n",
    "\n",
    "#SGDy_pred = SGDclf.predict(x_test)\n",
    "#print(SGDy_pred)\n",
    "\n",
    "# Prints most important features for SGD\n",
    "# sort the features by feature weight and show the first 10 (for news)\n",
    "#top_feats_n = numpy.argsort(SGDclf.coef_[0])[-10:]\n",
    "\n",
    "# Creates column for signifance test (p-value)\n",
    "# significance.columns('bagging_column', SGDy_pred,y_test)\n",
    "\n",
    "# (4) Report results\n",
    "#print(\"SGD REPORT:\")\n",
    "#print(classification_report(y_test, SGDy_pred))\n",
    "print(\"\")\n",
    "print(\"SVC REPORT:\")\n",
    "print(classification_report(y_test, y_pred))\n",
    "\n",
    "# Possible future work -> McNemar Significance Test (alternative to R)\n",
    "# Un segundo modelo igual para testearlo aqui con p-value!! Queda bien en reportes.\n",
    "# tb = mcnemar_table(y_target=numpy.array(y_test), y_model1=SGDy_pred, y_model2=MNBy_pred)\n",
    "# Test using McNemar\n",
    "#chi2, p = mcnemar(ary=tb, exact=True)\n",
    "#print('chi-squared:', chi2)\n",
    "#print('p-value:', p)\n",
    "#alpha = 0.5\n",
    "#if p > alpha:\n",
    "#print(\"No significant difference!\")\n"
   ]
  },
  {
   "cell_type": "code",
   "execution_count": 32,
   "metadata": {},
   "outputs": [
    {
     "data": {
      "text/plain": [
       "<matplotlib.axes._subplots.AxesSubplot at 0x117516605f8>"
      ]
     },
     "execution_count": 32,
     "metadata": {},
     "output_type": "execute_result"
    },
    {
     "data": {
      "image/png": "[encoded data removed]",
      "text/plain": [
       "<Figure size 432x288 with 2 Axes>"
      ]
     },
     "metadata": {
      "needs_background": "light"
     },
     "output_type": "display_data"
    }
   ],
   "source": [
    "#Need to -> pip install scikit-plot\n",
    "import scikitplot as skplt\n",
    "skplt.metrics.plot_confusion_matrix(y_test, y_pred, normalize=True)"
   ]
  },
  {
   "cell_type": "code",
   "execution_count": null,
   "metadata": {},
   "outputs": [],
   "source": []
  },
  {
   "cell_type": "code",
   "execution_count": 30,
   "metadata": {},
   "outputs": [
    {
     "data": {
      "text/plain": [
       "<matplotlib.axes._subplots.AxesSubplot at 0x117514a9eb8>"
      ]
     },
     "execution_count": 30,
     "metadata": {},
     "output_type": "execute_result"
    },
    {
     "data": {
      "image/png": "[encoded data removed]",
      "text/plain": [
       "<Figure size 432x288 with 1 Axes>"
      ]
     },
     "metadata": {
      "needs_background": "light"
     },
     "output_type": "display_data"
    }
   ],
   "source": [
    "skplt.estimators.plot_learning_curve(LinearSVC(max_iter=1000), x, y, cv = 5, n_jobs = 10)"
   ]
  },
  {
   "cell_type": "code",
   "execution_count": null,
   "metadata": {},
   "outputs": [],
   "source": []
  },
  {
   "cell_type": "code",
   "execution_count": 29,
   "metadata": {},
   "outputs": [
    {
     "data": {
      "text/plain": [
       "0.9176696595965805"
      ]
     },
     "execution_count": 29,
     "metadata": {},
     "output_type": "execute_result"
    }
   ],
   "source": [
    "skplt.metrics.average_precision_score(y_test, y_pred)"
   ]
  },
  {
   "cell_type": "code",
   "execution_count": 33,
   "metadata": {},
   "outputs": [
    {
     "name": "stdout",
     "output_type": "stream",
     "text": [
      "Accuracy (train) for L1 logistic: 78.0% \n"
     ]
    },
    {
     "name": "stderr",
     "output_type": "stream",
     "text": [
      "E:\\Anaconda\\lib\\site-packages\\sklearn\\svm\\base.py:929: ConvergenceWarning: Liblinear failed to converge, increase the number of iterations.\n",
      "  \"the number of iterations.\", ConvergenceWarning)\n"
     ]
    },
    {
     "ename": "AttributeError",
     "evalue": "'LinearSVC' object has no attribute 'predict_proba'",
     "output_type": "error",
     "traceback": [
      "\u001b[1;31m---------------------------------------------------------------------------\u001b[0m",
      "\u001b[1;31mAttributeError\u001b[0m                            Traceback (most recent call last)",
      "\u001b[1;32m<ipython-input-33-05711b8e25fc>\u001b[0m in \u001b[0;36m<module>\u001b[1;34m\u001b[0m\n\u001b[0;32m     42\u001b[0m \u001b[1;33m\u001b[0m\u001b[0m\n\u001b[0;32m     43\u001b[0m     \u001b[1;31m# View probabilities:\u001b[0m\u001b[1;33m\u001b[0m\u001b[1;33m\u001b[0m\u001b[1;33m\u001b[0m\u001b[0m\n\u001b[1;32m---> 44\u001b[1;33m     \u001b[0mprobas\u001b[0m \u001b[1;33m=\u001b[0m \u001b[0mclassifier\u001b[0m\u001b[1;33m.\u001b[0m\u001b[0mpredict_proba\u001b[0m\u001b[1;33m(\u001b[0m\u001b[0mXfull\u001b[0m\u001b[1;33m)\u001b[0m\u001b[1;33m\u001b[0m\u001b[1;33m\u001b[0m\u001b[0m\n\u001b[0m\u001b[0;32m     45\u001b[0m     \u001b[0mn_classes\u001b[0m \u001b[1;33m=\u001b[0m \u001b[0mnp\u001b[0m\u001b[1;33m.\u001b[0m\u001b[0munique\u001b[0m\u001b[1;33m(\u001b[0m\u001b[0my_pred\u001b[0m\u001b[1;33m)\u001b[0m\u001b[1;33m.\u001b[0m\u001b[0msize\u001b[0m\u001b[1;33m\u001b[0m\u001b[1;33m\u001b[0m\u001b[0m\n\u001b[0;32m     46\u001b[0m     \u001b[1;32mfor\u001b[0m \u001b[0mk\u001b[0m \u001b[1;32min\u001b[0m \u001b[0mrange\u001b[0m\u001b[1;33m(\u001b[0m\u001b[0mn_classes\u001b[0m\u001b[1;33m)\u001b[0m\u001b[1;33m:\u001b[0m\u001b[1;33m\u001b[0m\u001b[1;33m\u001b[0m\u001b[0m\n",
      "\u001b[1;31mAttributeError\u001b[0m: 'LinearSVC' object has no attribute 'predict_proba'"
     ]
    },
    {
     "data": {
      "text/plain": [
       "<Figure size 432x144 with 0 Axes>"
      ]
     },
     "metadata": {},
     "output_type": "display_data"
    }
   ],
   "source": [
    "# Author: Alexandre Gramfort <alexandre.gramfort@inria.fr>\n",
    "# License: BSD 3 clause\n",
    "\n",
    "import matplotlib.pyplot as plt\n",
    "import numpy as np\n",
    "\n",
    "from sklearn.metrics import accuracy_score\n",
    "from sklearn.linear_model import LogisticRegression\n",
    "from sklearn.svm import SVC\n",
    "from sklearn.gaussian_process import GaussianProcessClassifier\n",
    "from sklearn.gaussian_process.kernels import RBF\n",
    "from sklearn import datasets\n",
    "\n",
    "\n",
    "\n",
    "n_features = x.shape[1]\n",
    "\n",
    "C = 10\n",
    "kernel = 1.0 * RBF([1.0, 1.0])  # for GPC\n",
    "\n",
    "# Create different classifiers.\n",
    "classifiers = {\n",
    "    'L1 logistic': SVCclf\n",
    "}\n",
    "\n",
    "n_classifiers = len(classifiers)\n",
    "\n",
    "plt.figure(figsize=(3 * 2, n_classifiers * 2))\n",
    "plt.subplots_adjust(bottom=.2, top=.95)\n",
    "\n",
    "xx = np.linspace(3, 9, 100)\n",
    "yy = np.linspace(1, 5, 100).T\n",
    "xx, yy = np.meshgrid(xx, yy)\n",
    "Xfull = np.c_[xx.ravel(), yy.ravel()]\n",
    "\n",
    "for index, (name, classifier) in enumerate(classifiers.items()):\n",
    "    classifier.fit(x, y)\n",
    "\n",
    "    y_pred = classifier.predict(x)\n",
    "    accuracy = accuracy_score(y, y_pred)\n",
    "    print(\"Accuracy (train) for %s: %0.1f%% \" % (name, accuracy * 100))\n",
    "\n",
    "    # View probabilities:\n",
    "    probas = classifier.predict_proba(Xfull)\n",
    "    n_classes = np.unique(y_pred).size\n",
    "    for k in range(n_classes):\n",
    "        plt.subplot(n_classifiers, n_classes, index * n_classes + k + 1)\n",
    "        plt.title(\"Class %d\" % k)\n",
    "        if k == 0:\n",
    "            plt.ylabel(name)\n",
    "        imshow_handle = plt.imshow(probas[:, k].reshape((100, 100)),\n",
    "                                   extent=(3, 9, 1, 5), origin='lower')\n",
    "        plt.xticks(())\n",
    "        plt.yticks(())\n",
    "        idx = (y_pred == k)\n",
    "        if idx.any():\n",
    "            plt.scatter(X[idx, 0], X[idx, 1], marker='o', c='w', edgecolor='k')\n",
    "\n",
    "ax = plt.axes([0.15, 0.04, 0.7, 0.05])\n",
    "plt.title(\"Probability\")\n",
    "plt.colorbar(imshow_handle, cax=ax, orientation='horizontal')\n",
    "\n",
    "plt.show()"
   ]
  },
  {
   "cell_type": "code",
   "execution_count": null,
   "metadata": {},
   "outputs": [],
   "source": []
  }
 ],
 "metadata": {
  "kernelspec": {
   "display_name": "Python 3",
   "language": "python",
   "name": "python3"
  },
  "language_info": {
   "codemirror_mode": {
    "name": "ipython",
    "version": 3
   },
   "file_extension": ".py",
   "mimetype": "text/x-python",
   "name": "python",
   "nbconvert_exporter": "python",
   "pygments_lexer": "ipython3",
   "version": "3.7.3"
  }
 },
 "nbformat": 4,
 "nbformat_minor": 2
}
